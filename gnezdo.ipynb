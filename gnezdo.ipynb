{
 "cells": [
  {
   "cell_type": "code",
   "execution_count": 161,
   "id": "beautiful-employment",
   "metadata": {},
   "outputs": [],
   "source": [
    "import pandas as pd\n",
    "import requests\n",
    "import datetime"
   ]
  },
  {
   "cell_type": "code",
   "execution_count": 162,
   "id": "tracked-competition",
   "metadata": {},
   "outputs": [],
   "source": [
    "# Функция для получения данных:\n",
    "def response_df(login, password):\n",
    "    \n",
    "    # Авторизация:\n",
    "    param_request = {\n",
    "        'json': '1',\n",
    "        'login': login,\n",
    "        'password': password\n",
    "        }  \n",
    "\n",
    "    response = requests.get('https://lk-gnezdo.com/cgi-bin/admin/auth.cgi', params=param_request)\n",
    "\n",
    "    sid = response.json()['sid'] # session ID\n",
    "    \n",
    "    # Пустой датафрейм с параметрами для объединения данных\n",
    "    data = { \n",
    "        \"date\": [],\n",
    "        \"id\": [],\n",
    "        \"title\": [],\n",
    "        \"url\": [],\n",
    "        \"views_real\": [],\n",
    "        \"views\": [],\n",
    "        \"clicks\": [],\n",
    "        \"money\": []\n",
    "    }\n",
    "    df = pd.DataFrame(data)\n",
    "\n",
    "\n",
    "    for i in range(20):  # число дней, за которые нужны данные от текущей даты. Если нужны по дням, а не за период \n",
    "        date = datetime.datetime.now() - datetime.timedelta(days = i)\n",
    "        date = date.strftime(\"%Y-%m-%d\")\n",
    "\n",
    "        param_request = {\n",
    "                'json': '1',\n",
    "                'sid': sid,   # полученный session ID\n",
    "                'mode': 'anons', # чтобы передавать данные по тизерам\n",
    "                'date_start': date # если дата окончания не указана, она будет равна дате начала\n",
    "                }  \n",
    "        response = requests.get('http://news.gnezdo.ru/cgi-bin/admin/stat.cgi', params=param_request)\n",
    "\n",
    "\n",
    "        data = response.json()\n",
    "        data [\"date\"] = date\n",
    "\n",
    "        df_ = pd.DataFrame(data)\n",
    "        res = pd.concat([df_[x].apply(pd.Series).\n",
    "                             dropna(how=\"all\").reset_index(drop=True) for x in df_.columns],\n",
    "                            axis=1, keys=df_.columns).dropna(how=\"all\", axis=1)\n",
    "\n",
    "        try:  # на случай если данных в конкретный день нет\n",
    "            data_d = res['date'] # только дата\n",
    "            data_d.set_axis(['date'], axis = 'columns', inplace = True) # переименование\n",
    "            df_ = res['list']\n",
    "\n",
    "\n",
    "            df_ = pd.merge(df_, data_d, left_index=True, right_index=True) # объединяю\n",
    "\n",
    "            df_.rename(columns={'0': 'date'}, inplace=True) # переименование\n",
    "\n",
    "            df = df.append(df_)\n",
    "        except:\n",
    "            pass\n",
    "    \n",
    "    return df"
   ]
  },
  {
   "cell_type": "code",
   "execution_count": 163,
   "id": "patient-decrease",
   "metadata": {},
   "outputs": [],
   "source": [
    "df1 = response_df('login1', 'password1')\n",
    "df2 = response_df('login2', 'password2')"
   ]
  },
  {
   "cell_type": "code",
   "execution_count": 164,
   "id": "prospective-potter",
   "metadata": {},
   "outputs": [],
   "source": [
    "# Столбец для идентификации аккаунта:\n",
    "df1 ['account'] = 'acc1'\n",
    "df2 ['account'] = 'acc2'"
   ]
  },
  {
   "cell_type": "code",
   "execution_count": 165,
   "id": "freelance-fields",
   "metadata": {},
   "outputs": [],
   "source": [
    "df = pd.merge(df1, df2, how = 'outer') # объединение датафреймов"
   ]
  },
  {
   "cell_type": "code",
   "execution_count": 166,
   "id": "addressed-bishop",
   "metadata": {},
   "outputs": [],
   "source": [
    "# Функции преобразования в формат google sheets:\n",
    "def id_ (row):\n",
    "    id_ = str(row['id']) \n",
    "    id_ = id_.replace('.', ',') \n",
    "    return id_\n",
    "\n",
    "def money (row):\n",
    "    money = str(row['money']) \n",
    "    money = money.replace('.', ',') \n",
    "    return money\n",
    "\n",
    "# Применяю функции:\n",
    "df['id'] = df.apply(id_, axis=1) \n",
    "df['money'] = df.apply(money, axis=1) \n",
    "\n",
    "df = df.sort_values(['account', 'date'], ascending=[True, True]) # сортировка по аккаунту и дате"
   ]
  },
  {
   "cell_type": "code",
   "execution_count": 168,
   "id": "official-mongolia",
   "metadata": {},
   "outputs": [],
   "source": [
    "# Запись в Google документ\n",
    "\n",
    "import pygsheets\n",
    "\n",
    "# Авторизация. Файл-ключ сгенерировал в google cloud\n",
    "gc = pygsheets.authorize(service_file='innate-paratext.json')\n",
    "\n",
    "# Открыть Гугл таблицу\n",
    "sh = gc.open_by_key('you_doc_id')\n",
    "\n",
    "# Выбрать лист\n",
    "wks = sh.worksheet_by_title('gnezdo - import') # запись будет произведена в указанный лист\n",
    "\n",
    "# Очистить лист, заданный диапазон\n",
    "wks.clear(start='A1', end='T200000', fields='*')\n",
    "\n",
    "# Обновить заданный выше лист\n",
    "wks.set_dataframe(df,(1,1))"
   ]
  },
  {
   "cell_type": "code",
   "execution_count": null,
   "id": "rolled-medicaid",
   "metadata": {},
   "outputs": [],
   "source": []
  },
  {
   "cell_type": "code",
   "execution_count": null,
   "id": "interstate-living",
   "metadata": {},
   "outputs": [],
   "source": []
  },
  {
   "cell_type": "code",
   "execution_count": null,
   "id": "connected-jersey",
   "metadata": {},
   "outputs": [],
   "source": []
  },
  {
   "cell_type": "code",
   "execution_count": null,
   "id": "latter-shipping",
   "metadata": {},
   "outputs": [],
   "source": []
  },
  {
   "cell_type": "code",
   "execution_count": null,
   "id": "multiple-builder",
   "metadata": {},
   "outputs": [],
   "source": []
  },
  {
   "cell_type": "code",
   "execution_count": null,
   "id": "comic-montgomery",
   "metadata": {},
   "outputs": [],
   "source": []
  },
  {
   "cell_type": "code",
   "execution_count": null,
   "id": "clinical-ribbon",
   "metadata": {},
   "outputs": [],
   "source": []
  },
  {
   "cell_type": "code",
   "execution_count": null,
   "id": "annoying-cookbook",
   "metadata": {},
   "outputs": [],
   "source": []
  }
 ],
 "metadata": {
  "kernelspec": {
   "display_name": "Python 3",
   "language": "python",
   "name": "python3"
  },
  "language_info": {
   "codemirror_mode": {
    "name": "ipython",
    "version": 3
   },
   "file_extension": ".py",
   "mimetype": "text/x-python",
   "name": "python",
   "nbconvert_exporter": "python",
   "pygments_lexer": "ipython3",
   "version": "3.8.3"
  }
 },
 "nbformat": 4,
 "nbformat_minor": 5
}
